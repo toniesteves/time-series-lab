{
 "cells": [
  {
   "cell_type": "code",
   "execution_count": 9,
   "metadata": {},
   "outputs": [],
   "source": [
    "import pandas as pd\n",
    "import numpy as np\n",
    "from lightgbm import LGBMRegressor"
   ]
  },
  {
   "cell_type": "code",
   "execution_count": 2,
   "metadata": {},
   "outputs": [],
   "source": [
    "data = pd.read_feather('data/train.f')"
   ]
  },
  {
   "cell_type": "code",
   "execution_count": 4,
   "metadata": {},
   "outputs": [],
   "source": [
    "train = data[data['era'] <= 60]\n",
    "val   = data[data['era'] >= 60]"
   ]
  },
  {
   "cell_type": "code",
   "execution_count": 5,
   "metadata": {},
   "outputs": [],
   "source": [
    "X_train = train.filter(regex=r'feature')\n",
    "X_val   = val.filter(regex=r'feature')\n",
    "\n",
    "y_train = train['target_kazutsugi']\n",
    "y_val   = val['target_kazutsugi']"
   ]
  },
  {
   "cell_type": "code",
   "execution_count": 11,
   "metadata": {},
   "outputs": [
    {
     "name": "stdout",
     "output_type": "stream",
     "text": [
      "Wall time: 23 s\n"
     ]
    },
    {
     "data": {
      "text/plain": [
       "LGBMRegressor(colsample_bytree=0.1, learning_rate=0.01, max_depth=5,\n",
       "              n_estimators=2000, num_leaves=32, random_state=0)"
      ]
     },
     "execution_count": 11,
     "metadata": {},
     "output_type": "execute_result"
    }
   ],
   "source": [
    "%%time\n",
    "\n",
    "model = LGBMRegressor(max_depth        = 5,\n",
    "                      num_leaves       = 2**5,\n",
    "                      learning_rate    = .01,\n",
    "                      n_estimators     = 2000,\n",
    "                      colsample_bytree = .1,\n",
    "                      random_state     = 0)\n",
    "\n",
    "model.fit(X_train, y_train)"
   ]
  },
  {
   "cell_type": "code",
   "execution_count": 15,
   "metadata": {},
   "outputs": [
    {
     "data": {
      "text/plain": [
       "0.04905838625099541"
      ]
     },
     "execution_count": 15,
     "metadata": {},
     "output_type": "execute_result"
    }
   ],
   "source": [
    "probs = pd.Series(model.predict(X_val))\n",
    "\n",
    "# Ranked Correlation\n",
    "ranked_probs = probs.rank(pct=True, method='first')\n",
    "corr = np.corrcoef(y_val, ranked_probs)[0, 1]\n",
    "corr"
   ]
  },
  {
   "cell_type": "code",
   "execution_count": 16,
   "metadata": {},
   "outputs": [
    {
     "data": {
      "text/plain": [
       "0.029597436454573203"
      ]
     },
     "execution_count": 16,
     "metadata": {},
     "output_type": "execute_result"
    }
   ],
   "source": [
    "test = pd.read_feather('data/test.f')\n",
    "\n",
    "X_test = test.filter(regex=r'feature')\n",
    "y_test = test['target_kazutsugi']\n",
    "\n",
    "probs = pd.Series(model.predict(X_test))\n",
    "\n",
    "# Ranked Correlation\n",
    "ranked_probs = probs.rank(pct=True, method='first')\n",
    "corr = np.corrcoef(y_test, ranked_probs)[0, 1]\n",
    "corr"
   ]
  },
  {
   "cell_type": "markdown",
   "metadata": {},
   "source": [
    "### Holdout 70/30"
   ]
  },
  {
   "cell_type": "code",
   "execution_count": 22,
   "metadata": {},
   "outputs": [],
   "source": [
    "train = data[data['era'] <= 84]\n",
    "val   = data[data['era'] >= 84]\n",
    "\n",
    "X_train = train.filter(regex=r'feature')\n",
    "X_val   = val.filter(regex=r'feature')\n",
    "\n",
    "y_train = train['target_kazutsugi']\n",
    "y_val   = val['target_kazutsugi']"
   ]
  },
  {
   "cell_type": "code",
   "execution_count": 23,
   "metadata": {},
   "outputs": [
    {
     "name": "stdout",
     "output_type": "stream",
     "text": [
      "Wall time: 36.6 s\n"
     ]
    },
    {
     "data": {
      "text/plain": [
       "LGBMRegressor(colsample_bytree=0.1, learning_rate=0.01, max_depth=5,\n",
       "              n_estimators=2000, num_leaves=32, random_state=0)"
      ]
     },
     "execution_count": 23,
     "metadata": {},
     "output_type": "execute_result"
    }
   ],
   "source": [
    "%%time\n",
    "\n",
    "model = LGBMRegressor(max_depth        = 5,\n",
    "                      num_leaves       = 2**5,\n",
    "                      learning_rate    = .01,\n",
    "                      n_estimators     = 2000,\n",
    "                      colsample_bytree = .1,\n",
    "                      random_state     = 0)\n",
    "\n",
    "model.fit(X_train, y_train)"
   ]
  },
  {
   "cell_type": "code",
   "execution_count": 24,
   "metadata": {},
   "outputs": [
    {
     "data": {
      "text/plain": [
       "0.05183432285694725"
      ]
     },
     "execution_count": 24,
     "metadata": {},
     "output_type": "execute_result"
    }
   ],
   "source": [
    "probs = pd.Series(model.predict(X_val))\n",
    "\n",
    "# Ranked Correlation\n",
    "ranked_probs = probs.rank(pct=True, method='first')\n",
    "corr = np.corrcoef(y_val, ranked_probs)[0, 1]\n",
    "corr"
   ]
  },
  {
   "cell_type": "code",
   "execution_count": 25,
   "metadata": {},
   "outputs": [
    {
     "data": {
      "text/plain": [
       "0.028505636083722287"
      ]
     },
     "execution_count": 25,
     "metadata": {},
     "output_type": "execute_result"
    }
   ],
   "source": [
    "X_test = test.filter(regex=r'feature')\n",
    "y_test = test['target_kazutsugi']\n",
    "\n",
    "probs = pd.Series(model.predict(X_test))\n",
    "\n",
    "# Ranked Correlation\n",
    "ranked_probs = probs.rank(pct=True, method='first')\n",
    "corr = np.corrcoef(y_test, ranked_probs)[0, 1]\n",
    "corr"
   ]
  },
  {
   "cell_type": "markdown",
   "metadata": {},
   "source": [
    "### Retrain Score"
   ]
  },
  {
   "cell_type": "code",
   "execution_count": 26,
   "metadata": {},
   "outputs": [],
   "source": [
    "X_train = data.filter(regex=r'feature')\n",
    "y_train = data['target_kazutsugi']\n"
   ]
  },
  {
   "cell_type": "code",
   "execution_count": 27,
   "metadata": {},
   "outputs": [
    {
     "name": "stdout",
     "output_type": "stream",
     "text": [
      "Wall time: 31.6 s\n"
     ]
    },
    {
     "data": {
      "text/plain": [
       "LGBMRegressor(colsample_bytree=0.1, learning_rate=0.01, max_depth=5,\n",
       "              n_estimators=2000, num_leaves=32, random_state=0)"
      ]
     },
     "execution_count": 27,
     "metadata": {},
     "output_type": "execute_result"
    }
   ],
   "source": [
    "%%time\n",
    "\n",
    "model = LGBMRegressor(max_depth        = 5,\n",
    "                      num_leaves       = 2**5,\n",
    "                      learning_rate    = .01,\n",
    "                      n_estimators     = 2000,\n",
    "                      colsample_bytree = .1,\n",
    "                      random_state     = 0)\n",
    "\n",
    "model.fit(X_train, y_train)"
   ]
  },
  {
   "cell_type": "code",
   "execution_count": 28,
   "metadata": {},
   "outputs": [
    {
     "data": {
      "text/plain": [
       "0.029616141679292902"
      ]
     },
     "execution_count": 28,
     "metadata": {},
     "output_type": "execute_result"
    }
   ],
   "source": [
    "X_test = test.filter(regex=r'feature')\n",
    "y_test = test['target_kazutsugi']\n",
    "\n",
    "probs = pd.Series(model.predict(X_test))\n",
    "\n",
    "# Ranked Correlation\n",
    "ranked_probs = probs.rank(pct=True, method='first')\n",
    "corr = np.corrcoef(y_test, ranked_probs)[0, 1]\n",
    "corr"
   ]
  }
 ],
 "metadata": {
  "kernelspec": {
   "display_name": "Python 3.8.8 ('base')",
   "language": "python",
   "name": "python3"
  },
  "language_info": {
   "codemirror_mode": {
    "name": "ipython",
    "version": 3
   },
   "file_extension": ".py",
   "mimetype": "text/x-python",
   "name": "python",
   "nbconvert_exporter": "python",
   "pygments_lexer": "ipython3",
   "version": "3.8.8"
  },
  "orig_nbformat": 4,
  "vscode": {
   "interpreter": {
    "hash": "d66728ff6f4e2202fb15d3c6f4866efe078426253628d23ac9902b87e074e635"
   }
  }
 },
 "nbformat": 4,
 "nbformat_minor": 2
}
