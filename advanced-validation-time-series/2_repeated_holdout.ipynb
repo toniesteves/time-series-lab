{
 "cells": [
  {
   "cell_type": "code",
   "execution_count": 1,
   "metadata": {},
   "outputs": [
    {
     "name": "stderr",
     "output_type": "stream",
     "text": [
      "c:\\Users\\toni\\anaconda3\\lib\\site-packages\\dask\\dataframe\\utils.py:369: FutureWarning: pandas.Int64Index is deprecated and will be removed from pandas in a future version. Use pandas.Index with the appropriate dtype instead.\n",
      "  _numeric_index_types = (pd.Int64Index, pd.Float64Index, pd.UInt64Index)\n",
      "c:\\Users\\toni\\anaconda3\\lib\\site-packages\\dask\\dataframe\\utils.py:369: FutureWarning: pandas.Float64Index is deprecated and will be removed from pandas in a future version. Use pandas.Index with the appropriate dtype instead.\n",
      "  _numeric_index_types = (pd.Int64Index, pd.Float64Index, pd.UInt64Index)\n",
      "c:\\Users\\toni\\anaconda3\\lib\\site-packages\\dask\\dataframe\\utils.py:369: FutureWarning: pandas.UInt64Index is deprecated and will be removed from pandas in a future version. Use pandas.Index with the appropriate dtype instead.\n",
      "  _numeric_index_types = (pd.Int64Index, pd.Float64Index, pd.UInt64Index)\n"
     ]
    }
   ],
   "source": [
    "import pandas as pd\n",
    "import numpy as np\n",
    "from lightgbm import LGBMRegressor"
   ]
  },
  {
   "cell_type": "code",
   "execution_count": 2,
   "metadata": {},
   "outputs": [],
   "source": [
    "data = pd.read_feather('data/train.f')"
   ]
  },
  {
   "cell_type": "markdown",
   "metadata": {},
   "source": [
    "### Repeated Holdout 60/10"
   ]
  },
  {
   "cell_type": "code",
   "execution_count": 3,
   "metadata": {},
   "outputs": [
    {
     "name": "stdout",
     "output_type": "stream",
     "text": [
      "Repetition: 0 - Split point: 72\n",
      "Correlation: 0.1664234610296449\n",
      "\n",
      "Repetition: 1 - Split point: 84\n",
      "Correlation: 0.1704076269566628\n",
      "\n",
      "Repetition: 2 - Split point: 87\n",
      "Correlation: 0.17322038455527933\n",
      "\n",
      "Repetition: 3 - Split point: 96\n",
      "Correlation: 0.17490775757202837\n",
      "\n",
      "Repetition: 4 - Split point: 77\n",
      "Correlation: 0.16834082477689338\n",
      "\n",
      "Repetition: 5 - Split point: 107\n",
      "Correlation: 0.1779451949412366\n",
      "\n",
      "Repetition: 6 - Split point: 82\n",
      "Correlation: 0.16978066887563617\n",
      "\n",
      "Repetition: 7 - Split point: 76\n",
      "Correlation: 0.168271441199296\n",
      "\n",
      "Repetition: 8 - Split point: 75\n",
      "Correlation: 0.16921564358974228\n",
      "\n",
      "Repetition: 9 - Split point: 100\n",
      "Correlation: 0.17540266315579997\n",
      "\n",
      "Repetition: 10 - Split point: 81\n",
      "Correlation: 0.1692641583220416\n",
      "\n",
      "Repetition: 11 - Split point: 97\n",
      "Correlation: 0.17486501705486673\n",
      "\n",
      "Repetition: 12 - Split point: 83\n",
      "Correlation: 0.16954264918998116\n",
      "\n",
      "Repetition: 13 - Split point: 90\n",
      "Correlation: 0.17453694334091385\n",
      "\n",
      "Repetition: 14 - Split point: 96\n",
      "Correlation: 0.17490775757202837\n",
      "\n",
      "Repetition: 15 - Split point: 80\n",
      "Correlation: 0.1699590215546199\n",
      "\n",
      "Repetition: 16 - Split point: 77\n",
      "Correlation: 0.16834082477689338\n",
      "\n",
      "Repetition: 17 - Split point: 87\n",
      "Correlation: 0.17322038455527933\n",
      "\n",
      "Repetition: 18 - Split point: 91\n",
      "Correlation: 0.1756174850055275\n",
      "\n",
      "Repetition: 19 - Split point: 101\n",
      "Correlation: 0.17561607470181229\n",
      "\n",
      "Wall time: 15min 23s\n"
     ]
    }
   ],
   "source": [
    "%%time\n",
    "# 60% = 72\n",
    "# last 10% = 108\n",
    "\n",
    "results_val = []\n",
    "\n",
    "for seed in range(20):\n",
    "\n",
    "    np.random.seed(seed)\n",
    "    split_point = np.random.randint(72, 108)\n",
    "    print(f'Repetition: {seed} - Split point: {split_point}')\n",
    "\n",
    "    train = data[(data['era'] > split_point - 72) & (data['era'] <= split_point)]\n",
    "    val   = data[(data['era'] > split_point) & data['era'] <= split_point + 12]\n",
    "\n",
    "\n",
    "    X_train = train.filter(regex=r'feature')\n",
    "    X_val   = val.filter(regex=r'feature')\n",
    "\n",
    "    y_train = train['target_kazutsugi']\n",
    "    y_val   = val['target_kazutsugi']\n",
    "\n",
    "    model = LGBMRegressor(max_depth        = 5,\n",
    "                          num_leaves       = 2**5,\n",
    "                          learning_rate    = .01,\n",
    "                          n_estimators     = 2000,\n",
    "                          colsample_bytree = .1,\n",
    "                          random_state     = 0)\n",
    "\n",
    "    model.fit(X_train, y_train)\n",
    "\n",
    "    probs = pd.Series(model.predict(X_val))\n",
    "\n",
    "    # Ranked Correlation\n",
    "    ranked_probs = probs.rank(pct=True, method='first')\n",
    "    corr = np.corrcoef(y_val, ranked_probs)[0, 1]\n",
    "    \n",
    "    results_val.append(corr)\n",
    "\n",
    "    print(f'Correlation: {corr}')\n",
    "    print()"
   ]
  },
  {
   "cell_type": "code",
   "execution_count": 4,
   "metadata": {},
   "outputs": [
    {
     "data": {
      "text/plain": [
       "(0.17198929913630923, 0.17181400575597106)"
      ]
     },
     "execution_count": 4,
     "metadata": {},
     "output_type": "execute_result"
    }
   ],
   "source": [
    "np.mean(results_val), np.median(results_val)"
   ]
  },
  {
   "cell_type": "code",
   "execution_count": 5,
   "metadata": {},
   "outputs": [
    {
     "data": {
      "text/plain": [
       "(0.1664234610296449, 0.1779451949412366)"
      ]
     },
     "execution_count": 5,
     "metadata": {},
     "output_type": "execute_result"
    }
   ],
   "source": [
    "np.min(results_val), np.max(results_val)"
   ]
  },
  {
   "cell_type": "code",
   "execution_count": 6,
   "metadata": {},
   "outputs": [
    {
     "data": {
      "text/plain": [
       "20"
      ]
     },
     "execution_count": 6,
     "metadata": {},
     "output_type": "execute_result"
    }
   ],
   "source": [
    "len(results_val)"
   ]
  },
  {
   "cell_type": "code",
   "execution_count": null,
   "metadata": {},
   "outputs": [],
   "source": []
  }
 ],
 "metadata": {
  "kernelspec": {
   "display_name": "Python 3.8.8 ('base')",
   "language": "python",
   "name": "python3"
  },
  "language_info": {
   "codemirror_mode": {
    "name": "ipython",
    "version": 3
   },
   "file_extension": ".py",
   "mimetype": "text/x-python",
   "name": "python",
   "nbconvert_exporter": "python",
   "pygments_lexer": "ipython3",
   "version": "3.8.8"
  },
  "orig_nbformat": 4,
  "vscode": {
   "interpreter": {
    "hash": "d66728ff6f4e2202fb15d3c6f4866efe078426253628d23ac9902b87e074e635"
   }
  }
 },
 "nbformat": 4,
 "nbformat_minor": 2
}
